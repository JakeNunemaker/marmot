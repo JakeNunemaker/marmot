{
 "cells": [
  {
   "cell_type": "markdown",
   "metadata": {},
   "source": [
    "### Environment.state and Constraints\n",
    "\n",
    "Last updated: 01/22/2020"
   ]
  },
  {
   "cell_type": "code",
   "execution_count": 5,
   "metadata": {},
   "outputs": [],
   "source": [
    "import numpy as np\n",
    "import pandas as pd\n",
    "\n",
    "from marmot import Environment, Agent, process"
   ]
  },
  {
   "cell_type": "markdown",
   "metadata": {},
   "source": [
    "#### State Data"
   ]
  },
  {
   "cell_type": "code",
   "execution_count": 2,
   "metadata": {},
   "outputs": [
    {
     "data": {
      "text/plain": [
       "rec.array([( 1, 12, 1,  True), ( 2,  6, 1,  True), ( 3,  7, 1, False),\n",
       "           ( 4,  4, 1, False), ( 5,  3, 1, False), ( 6, 12, 2, False),\n",
       "           ( 7, 12, 2, False), ( 8, 12, 2, False), ( 9,  5, 2, False),\n",
       "           (10,  6, 2, False), (11,  7, 2, False), (12,  3, 2, False),\n",
       "           (13,  2, 3, False), (14,  3, 3, False), (15,  4, 3, False),\n",
       "           (16,  5, 3, False), (17,  1, 2, False), (18,  2, 2, False),\n",
       "           (19,  5, 2, False), (20,  8, 2, False), (21,  9, 2, False),\n",
       "           (22,  8, 2, False), (23,  5, 3, False), (24,  4, 3, False),\n",
       "           (25,  3, 3, False), (26,  2, 3,  True), (27,  1, 3,  True),\n",
       "           (28,  8, 3,  True), (29,  7, 2,  True), (30,  6, 2,  True),\n",
       "           (31,  5, 2,  True), (32,  9, 2,  True), (33,  2, 2,  True),\n",
       "           (34, 15, 2,  True), (35,  4, 2,  True), (36,  8, 1,  True),\n",
       "           (37,  8, 1,  True), (38,  8, 1,  True), (39,  9, 1, False),\n",
       "           (40,  5, 1, False), (41,  5, 1, False), (42,  4, 1, False),\n",
       "           (43,  3, 1, False), (44,  2, 1, False), (45,  8, 1, False),\n",
       "           (46,  9, 2, False), (47,  7, 1, False), (48, 12, 1, False),\n",
       "           (49,  4, 1, False), (50,  8, 1, False)],\n",
       "          dtype=[('datetime', '<i8'), ('windspeed', '<i8'), ('waveheight', '<i8'), ('whales', '?')])"
      ]
     },
     "execution_count": 2,
     "metadata": {},
     "output_type": "execute_result"
    }
   ],
   "source": [
    "# The marmot.Environment class can also be configured with time series that represent the\n",
    "# state of the environment throughout time. This dataset can then be used to dynamically\n",
    "# constrain tasks as they occur throughout the simulation.\n",
    "\n",
    "\n",
    "# Load data\n",
    "data = pd.read_csv(\"test_data.csv\")\\\n",
    "         .set_index(\"datetime\")\\\n",
    "         .to_records()  # The input data type should be np.ndarray\n",
    "\n",
    "# To create an Environment with state data:\n",
    "env = Environment(\"Test Environment\", state=data)\n",
    "\n",
    "# The current state forecast can be accessed through env.state:\n",
    "env.state"
   ]
  },
  {
   "cell_type": "code",
   "execution_count": 3,
   "metadata": {},
   "outputs": [
    {
     "data": {
      "text/plain": [
       "rec.array([(11,  7, 2, False), (12,  3, 2, False), (13,  2, 3, False),\n",
       "           (14,  3, 3, False), (15,  4, 3, False), (16,  5, 3, False),\n",
       "           (17,  1, 2, False), (18,  2, 2, False), (19,  5, 2, False),\n",
       "           (20,  8, 2, False), (21,  9, 2, False), (22,  8, 2, False),\n",
       "           (23,  5, 3, False), (24,  4, 3, False), (25,  3, 3, False),\n",
       "           (26,  2, 3,  True), (27,  1, 3,  True), (28,  8, 3,  True),\n",
       "           (29,  7, 2,  True), (30,  6, 2,  True), (31,  5, 2,  True),\n",
       "           (32,  9, 2,  True), (33,  2, 2,  True), (34, 15, 2,  True),\n",
       "           (35,  4, 2,  True), (36,  8, 1,  True), (37,  8, 1,  True),\n",
       "           (38,  8, 1,  True), (39,  9, 1, False), (40,  5, 1, False),\n",
       "           (41,  5, 1, False), (42,  4, 1, False), (43,  3, 1, False),\n",
       "           (44,  2, 1, False), (45,  8, 1, False), (46,  9, 2, False),\n",
       "           (47,  7, 1, False), (48, 12, 1, False), (49,  4, 1, False),\n",
       "           (50,  8, 1, False)],\n",
       "          dtype=[('datetime', '<i8'), ('windspeed', '<i8'), ('waveheight', '<i8'), ('whales', '?')])"
      ]
     },
     "execution_count": 3,
     "metadata": {},
     "output_type": "execute_result"
    }
   ],
   "source": [
    "# As the environment progresses througout time, the upcoming forecast adjusts:\n",
    "env.timeout(10)\n",
    "env.run()\n",
    "env.state"
   ]
  },
  {
   "cell_type": "code",
   "execution_count": 4,
   "metadata": {},
   "outputs": [
    {
     "data": {
      "text/plain": [
       "10"
      ]
     },
     "execution_count": 4,
     "metadata": {},
     "output_type": "execute_result"
    }
   ],
   "source": [
    "# Reset env, create an agent and register it\n",
    "env = Environment(\"Test Environment\", state=data)\n",
    "agent = Agent(\"Test Agent\")\n",
    "env.register(agent)\n",
    "\n",
    "# A task that is submitted without a constraint will be processed immediately\n",
    "agent.task(\"Run\", duration=10)\n",
    "env.run()\n",
    "env.now"
   ]
  },
  {
   "cell_type": "markdown",
   "metadata": {},
   "source": [
    "#### Constraints"
   ]
  },
  {
   "cell_type": "code",
   "execution_count": 8,
   "metadata": {},
   "outputs": [
    {
     "data": {
      "text/plain": [
       "array([False,  True,  True,  True,  True, False, False, False,  True,\n",
       "        True,  True,  True,  True,  True,  True,  True,  True,  True,\n",
       "        True,  True,  True,  True,  True,  True,  True,  True,  True,\n",
       "        True,  True,  True,  True,  True,  True, False,  True,  True,\n",
       "        True,  True,  True,  True,  True,  True,  True,  True,  True,\n",
       "        True,  True, False,  True,  True])"
      ]
     },
     "execution_count": 8,
     "metadata": {},
     "output_type": "execute_result"
    }
   ],
   "source": [
    "# There are 6 Constraints currently included in marmot that can be used within an agent.task()\n",
    "# These return a callable instance that can be used to compare arrays in a repeatable way:\n",
    "# - gt(val): greater than val\n",
    "# - ge(val): greater than or equal to val\n",
    "# - lt(val): less than val\n",
    "# - le(val): less than or equal to val\n",
    "# - true(): evaluates the input array\n",
    "# - false(): evaluates the opposite of the input array\n",
    "\n",
    "from marmot import gt, ge, lt, le, true, false\n",
    "\n",
    "constraint = lt(10)            # Create the constraint, \"Less than 10\"\n",
    "constraint(data[\"windspeed\"])  # Compare against the windspeed column of data\n",
    "                               # Returns a boolean array where that constraint evaluates to True"
   ]
  },
  {
   "cell_type": "code",
   "execution_count": 11,
   "metadata": {},
   "outputs": [
    {
     "data": {
      "text/plain": [
       "18"
      ]
     },
     "execution_count": 11,
     "metadata": {},
     "output_type": "execute_result"
    }
   ],
   "source": [
    "# These constraints can be used within the agent.task method to apply a constraint to the task:\n",
    "\n",
    "\n",
    "# Reset env, create an agent and register it\n",
    "env = Environment(\"Test Environment\", state=data)\n",
    "agent = Agent(\"Test Agent\")\n",
    "env.register(agent)\n",
    "\n",
    "# Create task:\n",
    "agent.task(\"Run\", duration=10, constraints={\"windspeed\": lt(10)})\n",
    "env.run()\n",
    "env.now    # The applied constraint delayed the completion of the task until time = 18"
   ]
  },
  {
   "cell_type": "code",
   "execution_count": 12,
   "metadata": {},
   "outputs": [
    {
     "data": {
      "text/plain": [
       "[{'agent': 'Test Agent',\n",
       "  'action': 'Delay',\n",
       "  'duration': 8.0,\n",
       "  'level': 'ACTION',\n",
       "  'time': 8},\n",
       " {'agent': 'Test Agent',\n",
       "  'action': 'Run',\n",
       "  'duration': 10.0,\n",
       "  'level': 'ACTION',\n",
       "  'time': 18}]"
      ]
     },
     "execution_count": 12,
     "metadata": {},
     "output_type": "execute_result"
    }
   ],
   "source": [
    "env.logs   # There was a delay of 8 units at the beginning of the task.\n",
    "           # By default, a constrained task must be completed within a state window\n",
    "           # where that state always remains True. Looking above at the boolean array that was returned for windspeed < 10,\n",
    "           # the first window of 10 successive True values occurs at the 9th index. The task is delayed\n",
    "           # until this point and then will proceed."
   ]
  },
  {
   "cell_type": "code",
   "execution_count": 13,
   "metadata": {},
   "outputs": [
    {
     "data": {
      "text/plain": [
       "14"
      ]
     },
     "execution_count": 13,
     "metadata": {},
     "output_type": "execute_result"
    }
   ],
   "source": [
    "# Repeating the above task, but with the \"suspendable\" flag\n",
    "\n",
    "\n",
    "# Reset env, create an agent and register it\n",
    "env = Environment(\"Test Environment\", state=data)\n",
    "agent = Agent(\"Test Agent\")\n",
    "env.register(agent)\n",
    "\n",
    "# Create task:\n",
    "agent.task(\"Run\", duration=10, constraints={\"windspeed\": lt(10)}, suspendable=True)\n",
    "env.run()\n",
    "env.now    # The applied constraint delayed the completion of the task until time = 14"
   ]
  },
  {
   "cell_type": "code",
   "execution_count": 14,
   "metadata": {},
   "outputs": [
    {
     "data": {
      "text/plain": [
       "[{'agent': 'Test Agent',\n",
       "  'action': 'Delay',\n",
       "  'duration': 1.0,\n",
       "  'level': 'ACTION',\n",
       "  'time': 1},\n",
       " {'agent': 'Test Agent',\n",
       "  'action': 'Run',\n",
       "  'duration': 4.0,\n",
       "  'level': 'ACTION',\n",
       "  'time': 5},\n",
       " {'agent': 'Test Agent',\n",
       "  'action': 'Delay',\n",
       "  'duration': 3.0,\n",
       "  'level': 'ACTION',\n",
       "  'time': 8},\n",
       " {'agent': 'Test Agent',\n",
       "  'action': 'Run',\n",
       "  'duration': 6.0,\n",
       "  'level': 'ACTION',\n",
       "  'time': 14}]"
      ]
     },
     "execution_count": 14,
     "metadata": {},
     "output_type": "execute_result"
    }
   ],
   "source": [
    "env.logs   # The suspendable flag allows the task to be interrupted when constraints are\n",
    "           # violated and completed at a later point. Looking above at the boolean array that was returned for windspeed < 10,\n",
    "           # the agent is briefly delayed at the first index, then is able to perform the task for 4 time steps.\n",
    "           # After another delay of 3 time steps, the task is completed at time = 14"
   ]
  },
  {
   "cell_type": "code",
   "execution_count": 20,
   "metadata": {},
   "outputs": [
    {
     "data": {
      "text/plain": [
       "19"
      ]
     },
     "execution_count": 20,
     "metadata": {},
     "output_type": "execute_result"
    }
   ],
   "source": [
    "# There can be multiple constraints applied to each task:\n",
    "# Any constraints that the key doesn't match a column in env.state are ignored.\n",
    "\n",
    "\n",
    "# Reset env, create an agent and register it\n",
    "env = Environment(\"Test Environment\", state=data)\n",
    "agent = Agent(\"Test Agent\")\n",
    "env.register(agent)\n",
    "\n",
    "# Create task:\n",
    "\n",
    "constraints = {\n",
    "    \"windspeed\": lt(10),\n",
    "    \"waveheight\": lt(3),\n",
    "    \"whales\": false(),\n",
    "    \"water_temp\": gt(50)  # Will be ignored as env.state doesn't contain data for \"water_temp\"\n",
    "}\n",
    "\n",
    "agent.task(\"Run\", duration=10, constraints=constraints, suspendable=True)\n",
    "env.run()\n",
    "env.now    # The applied constraints delayed the completion of the task until time = 19"
   ]
  },
  {
   "cell_type": "code",
   "execution_count": 21,
   "metadata": {},
   "outputs": [
    {
     "data": {
      "text/plain": [
       "[{'agent': 'Test Agent',\n",
       "  'action': 'Delay',\n",
       "  'duration': 2.0,\n",
       "  'level': 'ACTION',\n",
       "  'time': 2},\n",
       " {'agent': 'Test Agent',\n",
       "  'action': 'Run',\n",
       "  'duration': 3.0,\n",
       "  'level': 'ACTION',\n",
       "  'time': 5},\n",
       " {'agent': 'Test Agent',\n",
       "  'action': 'Delay',\n",
       "  'duration': 3.0,\n",
       "  'level': 'ACTION',\n",
       "  'time': 8},\n",
       " {'agent': 'Test Agent',\n",
       "  'action': 'Run',\n",
       "  'duration': 4.0,\n",
       "  'level': 'ACTION',\n",
       "  'time': 12},\n",
       " {'agent': 'Test Agent',\n",
       "  'action': 'Delay',\n",
       "  'duration': 4.0,\n",
       "  'level': 'ACTION',\n",
       "  'time': 16},\n",
       " {'agent': 'Test Agent',\n",
       "  'action': 'Run',\n",
       "  'duration': 3.0,\n",
       "  'level': 'ACTION',\n",
       "  'time': 19}]"
      ]
     },
     "execution_count": 21,
     "metadata": {},
     "output_type": "execute_result"
    }
   ],
   "source": [
    "env.logs"
   ]
  },
  {
   "cell_type": "code",
   "execution_count": null,
   "metadata": {},
   "outputs": [],
   "source": []
  }
 ],
 "metadata": {
  "kernelspec": {
   "display_name": "Python 3",
   "language": "python",
   "name": "python3"
  },
  "language_info": {
   "codemirror_mode": {
    "name": "ipython",
    "version": 3
   },
   "file_extension": ".py",
   "mimetype": "text/x-python",
   "name": "python",
   "nbconvert_exporter": "python",
   "pygments_lexer": "ipython3",
   "version": "3.8.1"
  }
 },
 "nbformat": 4,
 "nbformat_minor": 4
}
