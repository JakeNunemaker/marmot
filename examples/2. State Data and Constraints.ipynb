{
 "cells": [
  {
   "cell_type": "markdown",
   "metadata": {},
   "source": [
    "### Environment.state and Constraints\n",
    "\n",
    "Last updated: 01/22/2020"
   ]
  },
  {
   "cell_type": "code",
   "execution_count": 1,
   "metadata": {},
   "outputs": [],
   "source": [
    "import numpy as np\n",
    "import pandas as pd\n",
    "\n",
    "from marmot import Environment, Agent, process, lt"
   ]
  },
  {
   "cell_type": "markdown",
   "metadata": {},
   "source": [
    "#### State Data"
   ]
  },
  {
   "cell_type": "code",
   "execution_count": 2,
   "metadata": {},
   "outputs": [
    {
     "data": {
      "text/plain": [
       "rec.array([( 1, 12, 1,  True), ( 2,  6, 1,  True), ( 3,  7, 1, False),\n",
       "           ( 4,  4, 1, False), ( 5,  3, 1, False), ( 6, 12, 2, False),\n",
       "           ( 7, 12, 2, False), ( 8, 12, 2, False), ( 9,  5, 2, False),\n",
       "           (10,  6, 2, False), (11,  7, 2, False), (12,  3, 2, False),\n",
       "           (13,  2, 3, False), (14,  3, 3, False), (15,  4, 3, False),\n",
       "           (16,  5, 3, False), (17,  1, 2, False), (18,  2, 2, False),\n",
       "           (19,  5, 2, False), (20,  8, 2, False), (21,  9, 2, False),\n",
       "           (22,  8, 2, False), (23,  5, 3, False), (24,  4, 3, False),\n",
       "           (25,  3, 3, False), (26,  2, 3,  True), (27,  1, 3,  True),\n",
       "           (28,  8, 3,  True), (29,  7, 2,  True), (30,  6, 2,  True),\n",
       "           (31,  5, 2,  True), (32,  9, 2,  True), (33,  2, 2,  True),\n",
       "           (34, 15, 2,  True), (35,  4, 2,  True), (36,  8, 1,  True),\n",
       "           (37,  8, 1,  True), (38,  8, 1,  True), (39,  9, 1, False),\n",
       "           (40,  5, 1, False), (41,  5, 1, False), (42,  4, 1, False),\n",
       "           (43,  3, 1, False), (44,  2, 1, False), (45,  8, 1, False),\n",
       "           (46,  9, 2, False), (47,  7, 1, False), (48, 12, 1, False),\n",
       "           (49,  4, 1, False), (50,  8, 1, False)],\n",
       "          dtype=[('datetime', '<i8'), ('windspeed', '<i8'), ('waveheight', '<i8'), ('whales', '?')])"
      ]
     },
     "execution_count": 2,
     "metadata": {},
     "output_type": "execute_result"
    }
   ],
   "source": [
    "# The marmot.Environment class can also be configured with time series that represent the\n",
    "# state of the environment throughout time. This dataset can then be used to dynamically\n",
    "# constrain tasks as they occur throughout the simulation.\n",
    "\n",
    "\n",
    "# Load data\n",
    "data = pd.read_csv(\"test_data.csv\")\\\n",
    "         .set_index(\"datetime\")\\\n",
    "         .to_records()  # The input data type should be np.ndarray\n",
    "\n",
    "# To create an Environment with state data:\n",
    "env = Environment(\"Test Environment\", state=data)\n",
    "\n",
    "# The current state forecast can be accessed through env.state:\n",
    "env.state"
   ]
  },
  {
   "cell_type": "code",
   "execution_count": 3,
   "metadata": {},
   "outputs": [
    {
     "data": {
      "text/plain": [
       "rec.array([(11,  7, 2, False), (12,  3, 2, False), (13,  2, 3, False),\n",
       "           (14,  3, 3, False), (15,  4, 3, False), (16,  5, 3, False),\n",
       "           (17,  1, 2, False), (18,  2, 2, False), (19,  5, 2, False),\n",
       "           (20,  8, 2, False), (21,  9, 2, False), (22,  8, 2, False),\n",
       "           (23,  5, 3, False), (24,  4, 3, False), (25,  3, 3, False),\n",
       "           (26,  2, 3,  True), (27,  1, 3,  True), (28,  8, 3,  True),\n",
       "           (29,  7, 2,  True), (30,  6, 2,  True), (31,  5, 2,  True),\n",
       "           (32,  9, 2,  True), (33,  2, 2,  True), (34, 15, 2,  True),\n",
       "           (35,  4, 2,  True), (36,  8, 1,  True), (37,  8, 1,  True),\n",
       "           (38,  8, 1,  True), (39,  9, 1, False), (40,  5, 1, False),\n",
       "           (41,  5, 1, False), (42,  4, 1, False), (43,  3, 1, False),\n",
       "           (44,  2, 1, False), (45,  8, 1, False), (46,  9, 2, False),\n",
       "           (47,  7, 1, False), (48, 12, 1, False), (49,  4, 1, False),\n",
       "           (50,  8, 1, False)],\n",
       "          dtype=[('datetime', '<i8'), ('windspeed', '<i8'), ('waveheight', '<i8'), ('whales', '?')])"
      ]
     },
     "execution_count": 3,
     "metadata": {},
     "output_type": "execute_result"
    }
   ],
   "source": [
    "# As the environment progresses througout time, the upcoming forecast adjusts:\n",
    "env.timeout(10)\n",
    "env.run()\n",
    "env.state"
   ]
  },
  {
   "cell_type": "code",
   "execution_count": 11,
   "metadata": {},
   "outputs": [
    {
     "data": {
      "text/plain": [
       "10"
      ]
     },
     "execution_count": 11,
     "metadata": {},
     "output_type": "execute_result"
    }
   ],
   "source": [
    "# Reset env, create an agent and register it\n",
    "env = Environment(\"Test Environment\", state=data)\n",
    "agent = Agent(\"Test Agent\")\n",
    "env.register(agent)\n",
    "\n",
    "# A task that is submitted without a constraint will be processed immediately\n",
    "agent.task(\"Run\", duration=10, suspendable=True)\n",
    "env.run()\n",
    "env.now"
   ]
  }
 ],
 "metadata": {
  "kernelspec": {
   "display_name": "Python 3",
   "language": "python",
   "name": "python3"
  },
  "language_info": {
   "codemirror_mode": {
    "name": "ipython",
    "version": 3
   },
   "file_extension": ".py",
   "mimetype": "text/x-python",
   "name": "python",
   "nbconvert_exporter": "python",
   "pygments_lexer": "ipython3",
   "version": "3.8.1"
  }
 },
 "nbformat": 4,
 "nbformat_minor": 4
}
