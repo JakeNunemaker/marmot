{
 "cells": [
  {
   "cell_type": "markdown",
   "metadata": {},
   "source": [
    "### Introduction to Marmot\n",
    "\n",
    "Last updated: 01/21/2020"
   ]
  },
  {
   "cell_type": "code",
   "execution_count": 1,
   "metadata": {},
   "outputs": [],
   "source": [
    "from marmot import Environment, Agent, process"
   ]
  },
  {
   "cell_type": "markdown",
   "metadata": {},
   "source": [
    "Marmot is an extension of [SimPy](https://simpy.readthedocs.io/en/latest/) that makes it easier to build agent-based process models. The three main components of Marmot are the Environment class, Agent class and the @process decorator:\n",
    "\n",
    "- **Environment**: This class is very similar to the simpy.Environment class with a few additional features\n",
    "- **Agent**: This class and it's subclasses represent discrete agents that must be registered with an environment before they can perform tasks\n",
    "- **@process**: This decorator is used it denote a simpy.Process and verify that the configured agent is registered with an Environment. It also handles most of the boilerplate code that is required by SimPy to call nested processes."
   ]
  },
  {
   "cell_type": "markdown",
   "metadata": {},
   "source": [
    "#### Environment"
   ]
  },
  {
   "cell_type": "code",
   "execution_count": 3,
   "metadata": {},
   "outputs": [
    {
     "name": "stdout",
     "output_type": "stream",
     "text": [
      "Environment time: 0\n",
      "Environment queue: []\n",
      "Active agents: []\n",
      "Scheduled agents: []\n",
      "Logs: []\n"
     ]
    }
   ],
   "source": [
    "# The marmot.Environment extends simpy.Environment to include the following functionality:\n",
    "# - Registering an Agent with the environment (required to use the @process decorator)\n",
    "# - Tracking which registered agent is submitting a process to the underlying Environment._queue\n",
    "# - State time series data that can be used to constrain Agent tasks from running unless a set of conditions are met\n",
    "# - Simple logging of agent tasks (to be expanded on in future releases)\n",
    "\n",
    "\n",
    "# To create an Environment without state data:\n",
    "env = Environment(name=\"Test Environment\")\n",
    "\n",
    "print(f\"Environment time: {env.now}\")      # The simpy.Environment API is maintained\n",
    "print(f\"Environment queue: {env._queue}\")  # There are no events scheduled at creation\n",
    "\n",
    "# Additional properties:\n",
    "print(f\"Active agents: {env.active_agents}\")        # There are no agents registered with the environment at creation\n",
    "print(f\"Scheduled agents: {env.scheduled_agents}\")  # No scheduled agents\n",
    "print(f\"Logs: {env.logs}\")                          # No logs"
   ]
  },
  {
   "cell_type": "code",
   "execution_count": 4,
   "metadata": {},
   "outputs": [
    {
     "data": {
      "text/plain": [
       "[(10, 1, 0, <Timeout(10) object at 0x10d587df0>, None)]"
      ]
     },
     "execution_count": 4,
     "metadata": {},
     "output_type": "execute_result"
    }
   ],
   "source": [
    "env.timeout(10)  # Schedule a timeout of length 10\n",
    "env._queue       # Notice the \"None\" at the end of the Timeout(10) object.\n",
    "                 # This represents which agent this event is attributed to.\n",
    "                 # In this case, the timeout isn't attributed to an agent (more later)."
   ]
  },
  {
   "cell_type": "markdown",
   "metadata": {},
   "source": [
    "#### Agent"
   ]
  },
  {
   "cell_type": "code",
   "execution_count": 5,
   "metadata": {},
   "outputs": [
    {
     "name": "stdout",
     "output_type": "stream",
     "text": [
      "Active agents: [Test Agent]\n"
     ]
    }
   ],
   "source": [
    "# The marmot.Agent class represents a discrete Agent in the process model. A few notes:\n",
    "# - An Agent must be registered with an Environment before it can perform any tasks\n",
    "# - Each Agent registered with an Environment must have a unique name\n",
    "\n",
    "\n",
    "# Reset env, create an agent and register it\n",
    "env = Environment(name=\"Test Environment\")\n",
    "agent = Agent(\"Test Agent\")\n",
    "env.register(agent)\n",
    "\n",
    "print(f\"Active agents: {env.active_agents}\")        # \"Test Agent\" is now registered with \"env\"."
   ]
  },
  {
   "cell_type": "code",
   "execution_count": 6,
   "metadata": {},
   "outputs": [
    {
     "name": "stdout",
     "output_type": "stream",
     "text": [
      "Scheduled agents: [Test Agent]\n",
      "Environment queue: [(0, 0, 0, <Initialize() object at 0x11aff9130>, Test Agent)]\n"
     ]
    }
   ],
   "source": [
    "# \"Test Agent\" can now submit tasks to \"env\"\n",
    "\n",
    "agent.task(\"Run\", duration=10)  # Submitting a task with name=\"Run\" that will last for 10 units\n",
    "\n",
    "print(f\"Scheduled agents: {env.scheduled_agents}\")  # \"Test Agent\" is now scheduled\n",
    "print(f\"Environment queue: {env._queue}\")           # The event in env._queue is attributed to \"Test Agent\""
   ]
  },
  {
   "cell_type": "code",
   "execution_count": 7,
   "metadata": {},
   "outputs": [
    {
     "data": {
      "text/plain": [
       "[{'agent': 'Test Agent',\n",
       "  'action': 'Run',\n",
       "  'duration': 10.0,\n",
       "  'level': 'ACTION',\n",
       "  'time': 10}]"
      ]
     },
     "execution_count": 7,
     "metadata": {},
     "output_type": "execute_result"
    }
   ],
   "source": [
    "env.run()  # Run the current environment.\n",
    "env.logs   # The \"task\" method automatically submits a log of the action.\n",
    "           # The \"time\" represents when the task was completed."
   ]
  },
  {
   "cell_type": "code",
   "execution_count": 8,
   "metadata": {},
   "outputs": [
    {
     "data": {
      "text/plain": [
       "[{'agent': 'Test Agent',\n",
       "  'action': 'Run',\n",
       "  'duration': 10.0,\n",
       "  'level': 'ACTION',\n",
       "  'time': 10},\n",
       " {'status': 'Out of breath',\n",
       "  'agent': 'Test Agent',\n",
       "  'action': 'Rest',\n",
       "  'duration': 60.0,\n",
       "  'level': 'ACTION',\n",
       "  'time': 70}]"
      ]
     },
     "execution_count": 8,
     "metadata": {},
     "output_type": "execute_result"
    }
   ],
   "source": [
    "agent.task(\"Rest\", 60, status=\"Out of breath\")  # kwargs passed to task are automatically passed to the log.\n",
    "env.run()\n",
    "env.logs"
   ]
  },
  {
   "cell_type": "code",
   "execution_count": 9,
   "metadata": {},
   "outputs": [
    {
     "ename": "RegistrationConflict",
     "evalue": "'Test Environment' already has a registered agent with name 'Test Agent'.",
     "output_type": "error",
     "traceback": [
      "\u001b[0;31m---------------------------------------------------------------------------\u001b[0m",
      "\u001b[0;31mRegistrationConflict\u001b[0m                      Traceback (most recent call last)",
      "\u001b[0;32m<ipython-input-9-963d47404c69>\u001b[0m in \u001b[0;36m<module>\u001b[0;34m\u001b[0m\n\u001b[1;32m      2\u001b[0m \u001b[0;31m# Another agent with name \"Test Agent\" can't be registered until \"agent\" is deregistered.\u001b[0m\u001b[0;34m\u001b[0m\u001b[0;34m\u001b[0m\u001b[0;34m\u001b[0m\u001b[0m\n\u001b[1;32m      3\u001b[0m \u001b[0magent2\u001b[0m \u001b[0;34m=\u001b[0m \u001b[0mAgent\u001b[0m\u001b[0;34m(\u001b[0m\u001b[0;34m\"Test Agent\"\u001b[0m\u001b[0;34m)\u001b[0m\u001b[0;34m\u001b[0m\u001b[0;34m\u001b[0m\u001b[0m\n\u001b[0;32m----> 4\u001b[0;31m \u001b[0menv\u001b[0m\u001b[0;34m.\u001b[0m\u001b[0mregister\u001b[0m\u001b[0;34m(\u001b[0m\u001b[0magent2\u001b[0m\u001b[0;34m)\u001b[0m\u001b[0;34m\u001b[0m\u001b[0;34m\u001b[0m\u001b[0m\n\u001b[0m",
      "\u001b[0;32m~/Fun/repos/marmot/marmot/environment.py\u001b[0m in \u001b[0;36mregister\u001b[0;34m(self, instance)\u001b[0m\n\u001b[1;32m    354\u001b[0m \u001b[0;34m\u001b[0m\u001b[0m\n\u001b[1;32m    355\u001b[0m         \u001b[0;32mif\u001b[0m \u001b[0misinstance\u001b[0m\u001b[0;34m(\u001b[0m\u001b[0minstance\u001b[0m\u001b[0;34m,\u001b[0m \u001b[0mAgent\u001b[0m\u001b[0;34m)\u001b[0m\u001b[0;34m:\u001b[0m\u001b[0;34m\u001b[0m\u001b[0;34m\u001b[0m\u001b[0m\n\u001b[0;32m--> 356\u001b[0;31m             \u001b[0mself\u001b[0m\u001b[0;34m.\u001b[0m\u001b[0m_register_agent\u001b[0m\u001b[0;34m(\u001b[0m\u001b[0minstance\u001b[0m\u001b[0;34m)\u001b[0m\u001b[0;34m\u001b[0m\u001b[0;34m\u001b[0m\u001b[0m\n\u001b[0m\u001b[1;32m    357\u001b[0m \u001b[0;34m\u001b[0m\u001b[0m\n\u001b[1;32m    358\u001b[0m         \u001b[0;32melif\u001b[0m \u001b[0misinstance\u001b[0m\u001b[0;34m(\u001b[0m\u001b[0minstance\u001b[0m\u001b[0;34m,\u001b[0m \u001b[0mObject\u001b[0m\u001b[0;34m)\u001b[0m\u001b[0;34m:\u001b[0m\u001b[0;34m\u001b[0m\u001b[0;34m\u001b[0m\u001b[0m\n",
      "\u001b[0;32m~/Fun/repos/marmot/marmot/environment.py\u001b[0m in \u001b[0;36m_register_agent\u001b[0;34m(self, agent)\u001b[0m\n\u001b[1;32m    377\u001b[0m \u001b[0;34m\u001b[0m\u001b[0m\n\u001b[1;32m    378\u001b[0m         \u001b[0;32mif\u001b[0m \u001b[0mstr\u001b[0m\u001b[0;34m(\u001b[0m\u001b[0magent\u001b[0m\u001b[0;34m)\u001b[0m \u001b[0;32min\u001b[0m \u001b[0mself\u001b[0m\u001b[0;34m.\u001b[0m\u001b[0m_agents\u001b[0m\u001b[0;34m.\u001b[0m\u001b[0mkeys\u001b[0m\u001b[0;34m(\u001b[0m\u001b[0;34m)\u001b[0m\u001b[0;34m:\u001b[0m\u001b[0;34m\u001b[0m\u001b[0;34m\u001b[0m\u001b[0m\n\u001b[0;32m--> 379\u001b[0;31m             \u001b[0;32mraise\u001b[0m \u001b[0mRegistrationConflict\u001b[0m\u001b[0;34m(\u001b[0m\u001b[0mself\u001b[0m\u001b[0;34m,\u001b[0m \u001b[0magent\u001b[0m\u001b[0;34m)\u001b[0m\u001b[0;34m\u001b[0m\u001b[0;34m\u001b[0m\u001b[0m\n\u001b[0m\u001b[1;32m    380\u001b[0m \u001b[0;34m\u001b[0m\u001b[0m\n\u001b[1;32m    381\u001b[0m         \u001b[0magent\u001b[0m\u001b[0;34m.\u001b[0m\u001b[0menv\u001b[0m \u001b[0;34m=\u001b[0m \u001b[0mself\u001b[0m\u001b[0;34m\u001b[0m\u001b[0;34m\u001b[0m\u001b[0m\n",
      "\u001b[0;31mRegistrationConflict\u001b[0m: 'Test Environment' already has a registered agent with name 'Test Agent'."
     ]
    }
   ],
   "source": [
    "# Registration Errors:\n",
    "# Another agent with name \"Test Agent\" can't be registered until \"agent\" is deregistered.\n",
    "agent2 = Agent(\"Test Agent\")\n",
    "env.register(agent2)"
   ]
  },
  {
   "cell_type": "code",
   "execution_count": 10,
   "metadata": {},
   "outputs": [
    {
     "ename": "AgentNotRegistered",
     "evalue": "Agent 'Test Agent' is not registered to an environment.",
     "output_type": "error",
     "traceback": [
      "\u001b[0;31m---------------------------------------------------------------------------\u001b[0m",
      "\u001b[0;31mAgentNotRegistered\u001b[0m                        Traceback (most recent call last)",
      "\u001b[0;32m<ipython-input-10-08381121baa0>\u001b[0m in \u001b[0;36m<module>\u001b[0;34m\u001b[0m\n\u001b[1;32m      1\u001b[0m \u001b[0;31m# agent2 can't submit a task until it is registered with an Environment\u001b[0m\u001b[0;34m\u001b[0m\u001b[0;34m\u001b[0m\u001b[0;34m\u001b[0m\u001b[0m\n\u001b[0;32m----> 2\u001b[0;31m \u001b[0magent2\u001b[0m\u001b[0;34m.\u001b[0m\u001b[0mtask\u001b[0m\u001b[0;34m(\u001b[0m\u001b[0;34m\"Run\"\u001b[0m\u001b[0;34m,\u001b[0m \u001b[0;36m10\u001b[0m\u001b[0;34m)\u001b[0m\u001b[0;34m\u001b[0m\u001b[0;34m\u001b[0m\u001b[0m\n\u001b[0m",
      "\u001b[0;32m~/Fun/repos/marmot/marmot/agent.py\u001b[0m in \u001b[0;36mwrapper\u001b[0;34m(agent, *args, **kwargs)\u001b[0m\n\u001b[1;32m     39\u001b[0m         \u001b[0menv\u001b[0m \u001b[0;34m=\u001b[0m \u001b[0mgetattr\u001b[0m\u001b[0;34m(\u001b[0m\u001b[0magent\u001b[0m\u001b[0;34m,\u001b[0m \u001b[0;34m\"env\"\u001b[0m\u001b[0;34m,\u001b[0m \u001b[0;32mNone\u001b[0m\u001b[0;34m)\u001b[0m\u001b[0;34m\u001b[0m\u001b[0;34m\u001b[0m\u001b[0m\n\u001b[1;32m     40\u001b[0m         \u001b[0;32mif\u001b[0m \u001b[0menv\u001b[0m \u001b[0;32mis\u001b[0m \u001b[0;32mNone\u001b[0m\u001b[0;34m:\u001b[0m\u001b[0;34m\u001b[0m\u001b[0;34m\u001b[0m\u001b[0m\n\u001b[0;32m---> 41\u001b[0;31m             \u001b[0;32mraise\u001b[0m \u001b[0mAgentNotRegistered\u001b[0m\u001b[0;34m(\u001b[0m\u001b[0magent\u001b[0m\u001b[0;34m)\u001b[0m\u001b[0;34m\u001b[0m\u001b[0;34m\u001b[0m\u001b[0m\n\u001b[0m\u001b[1;32m     42\u001b[0m \u001b[0;34m\u001b[0m\u001b[0m\n\u001b[1;32m     43\u001b[0m         \u001b[0;32mif\u001b[0m \u001b[0magent\u001b[0m \u001b[0;32min\u001b[0m \u001b[0menv\u001b[0m\u001b[0;34m.\u001b[0m\u001b[0mscheduled_agents\u001b[0m\u001b[0;34m:\u001b[0m\u001b[0;34m\u001b[0m\u001b[0;34m\u001b[0m\u001b[0m\n",
      "\u001b[0;31mAgentNotRegistered\u001b[0m: Agent 'Test Agent' is not registered to an environment."
     ]
    }
   ],
   "source": [
    "# agent2 can't submit a task until it is registered with an Environment\n",
    "agent2.task(\"Run\", 10)"
   ]
  },
  {
   "cell_type": "markdown",
   "metadata": {},
   "source": [
    "#### @process"
   ]
  },
  {
   "cell_type": "code",
   "execution_count": 13,
   "metadata": {},
   "outputs": [],
   "source": [
    "# The \"process\" decorator enables a lot of the functionality above. It does a few things:\n",
    "# - Verifies that the submitting Agent is registered (else raises AgentNotRegistered)\n",
    "# - Verifies that the submitting Agent isn't already scheduled (else raises AgentAlreadyScheduled)\n",
    "# - Wraps the input function in \"env.process(func(...))\".\n",
    "# -- This is a requirement of SimPy. All generators are treated as a simpy.Process and as such, any generator\n",
    "#    called within another generator must be submitted with \"env.process(func(...))\".\n",
    "\n",
    "\n",
    "# The \"process\" decorator can be used to build up a series of tasks.\n",
    "# It takes the first argument to the function as the Agent and performs the checks outlined above.\n",
    "# This design allows it to be used within and outside of an instance of Agent:\n",
    "\n",
    "# Outside of an Agent instance\n",
    "@process\n",
    "def perform_series_of_tasks(agent, a, b, c):\n",
    "    \n",
    "    yield agent.task(\"Task A\", a)\n",
    "    yield agent.task(\"Task B\", b)\n",
    "    yield agent.task(\"Task C\", c)\n",
    "    \n",
    "\n",
    "# Within an Agent instance\n",
    "class TestAgent(Agent):\n",
    "    \n",
    "    def __init__(self, name):\n",
    "        super().__init__(name)\n",
    "\n",
    "    @process\n",
    "    def perform_series_of_tasks(self, a, b, c):\n",
    "\n",
    "        yield self.task(\"Task A\", a)\n",
    "        yield self.task(\"Task B\", b)\n",
    "        yield self.task(\"Task C\", c)\n",
    "    "
   ]
  },
  {
   "cell_type": "code",
   "execution_count": 14,
   "metadata": {},
   "outputs": [
    {
     "data": {
      "text/plain": [
       "[{'agent': 'Test Agent',\n",
       "  'action': 'Task A',\n",
       "  'duration': 2.0,\n",
       "  'level': 'ACTION',\n",
       "  'time': 2},\n",
       " {'agent': 'Test Agent',\n",
       "  'action': 'Task B',\n",
       "  'duration': 4.0,\n",
       "  'level': 'ACTION',\n",
       "  'time': 6},\n",
       " {'agent': 'Test Agent',\n",
       "  'action': 'Task C',\n",
       "  'duration': 6.0,\n",
       "  'level': 'ACTION',\n",
       "  'time': 12}]"
      ]
     },
     "execution_count": 14,
     "metadata": {},
     "output_type": "execute_result"
    }
   ],
   "source": [
    "# Reset env, create an agent and register it\n",
    "env = Environment(name=\"Test Environment\")\n",
    "agent = Agent(\"Test Agent\")\n",
    "env.register(agent)\n",
    "\n",
    "_ = perform_series_of_tasks(agent, 2, 4, 6)\n",
    "env._queue\n",
    "env.run()\n",
    "env.logs"
   ]
  },
  {
   "cell_type": "code",
   "execution_count": 15,
   "metadata": {},
   "outputs": [
    {
     "data": {
      "text/plain": [
       "[{'agent': 'Test Agent',\n",
       "  'action': 'Task A',\n",
       "  'duration': 2.0,\n",
       "  'level': 'ACTION',\n",
       "  'time': 2},\n",
       " {'agent': 'Test Agent',\n",
       "  'action': 'Task B',\n",
       "  'duration': 4.0,\n",
       "  'level': 'ACTION',\n",
       "  'time': 6},\n",
       " {'agent': 'Test Agent',\n",
       "  'action': 'Task C',\n",
       "  'duration': 6.0,\n",
       "  'level': 'ACTION',\n",
       "  'time': 12}]"
      ]
     },
     "execution_count": 15,
     "metadata": {},
     "output_type": "execute_result"
    }
   ],
   "source": [
    "# This time with TestAgent.perform_series_of_tasks\n",
    "env = Environment(name=\"Test Environment\")\n",
    "agent = TestAgent(\"Test Agent\")\n",
    "env.register(agent)\n",
    "\n",
    "agent.perform_series_of_tasks(2, 4, 6)\n",
    "env._queue\n",
    "env.run()\n",
    "env.logs"
   ]
  }
 ],
 "metadata": {
  "kernelspec": {
   "display_name": "Python 3",
   "language": "python",
   "name": "python3"
  },
  "language_info": {
   "codemirror_mode": {
    "name": "ipython",
    "version": 3
   },
   "file_extension": ".py",
   "mimetype": "text/x-python",
   "name": "python",
   "nbconvert_exporter": "python",
   "pygments_lexer": "ipython3",
   "version": "3.8.1"
  }
 },
 "nbformat": 4,
 "nbformat_minor": 4
}
